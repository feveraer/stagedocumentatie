{
 "cells": [
  {
   "cell_type": "code",
   "execution_count": 88,
   "metadata": {
    "collapsed": false
   },
   "outputs": [
    {
     "name": "stdout",
     "output_type": "stream",
     "text": [
      "Computing plot\n"
     ]
    }
   ],
   "source": [
    "%matplotlib inline\n",
    "\n",
    "import matplotlib.pyplot as plt\n",
    "import matplotlib.dates as mdates\n",
    "import numpy as np\n",
    "\n",
    "from ipywidgets import widgets\n",
    "from IPython.display import display\n",
    "from IPython.display import clear_output\n",
    "\n",
    "user_box = widgets.Text(\"userid\")\n",
    "display(user_box)\n",
    "location_box = widgets.Text(\"Location\")\n",
    "display(location_box)\n",
    "\n",
    "userId = 0\n",
    "locationName = \"\"\n",
    "\n",
    "def handle_user_submit(sender):\n",
    "    global userId\n",
    "    userId = user_box.value\n",
    "    clear_output()\n",
    "    show_distinct_locations_for_user(userId)\n",
    "    \n",
    "user_box.on_submit(handle_user_submit)\n",
    "\n",
    "def show_distinct_locations_for_user(userId):\n",
    "    distinct_locations_user = sqlContext.sql(\n",
    "                                    \"select distinct l.name \"\n",
    "                                    + \"from locations l \"\n",
    "                                    + \"join outputs o on l.id = o.locationId \"\n",
    "                                    + \"join types t on t.id = o.typeId \"\n",
    "                                    + \"where l.userId = '\" + str(userId) + \"' \"\n",
    "                                    + \"and t.name = 'THERMO'\"\n",
    "                                    + \"order by l.name\")\n",
    "    for element in distinct_locations_user.collect():\n",
    "        print element.name\n",
    "\n",
    "def handle_location_submit(sender):\n",
    "    global locationName\n",
    "    locationName = location_box.value\n",
    "    clear_output()\n",
    "    print \"Computing plot\"\n",
    "    compute_plot()\n",
    "    \n",
    "location_box.on_submit(handle_location_submit)\n",
    "\n",
    "def compute_plot():\n",
    "    set_temps = sqlContext.sql(\"select ol.time, ol.value, l.userid, o.id, l.name \"\n",
    "                          + \"from OutputLogs ol \"\n",
    "                          + \"join Outputs o on ol.OutputID = o.id \"\n",
    "                          + \"join Locations l on o.locationid = l.id \"\n",
    "                          + \"join Types t on o.typeid = t.id \"\n",
    "                          + \"where l.Userid = '\" + str(userId) + \"' and t.Name = 'THERMO' \"\n",
    "                          + \"and l.name = '\" + locationName + \"' and ol.time > '2016-02-22' \"\n",
    "                          + \"order by ol.time\")\n",
    "\n",
    "    measured_temps = sqlContext.sql(\"select oghd.time, oghd.value, l.userid, o.id, l.name \"\n",
    "                          + \"from OutputGraphHourData oghd \"\n",
    "                          + \"join Outputs o on oghd.outputid = o.id \"\n",
    "                          + \"join Locations l on o.locationid = l.id \"\n",
    "                          + \"join Types t on o.typeid = t.id \"\n",
    "                          + \"where l.Userid = '\" + str(userId) + \"' \"\n",
    "                          + \"and l.name = '\" + locationName + \"' and oghd.time > '2016-02-22' \"\n",
    "                          + \"order by oghd.time\")\n",
    "    \n",
    "    fig, ax = plt.subplots(figsize=(20,10))\n",
    "    plt.plot(set_temps.select('time').collect(), \n",
    "             set_temps.select('value').collect(),\n",
    "             label = \"set\")\n",
    "    plt.plot(measured_temps.select('time').collect(), \n",
    "             measured_temps.select('value').collect(),\n",
    "            label = \"measured\")\n",
    "    \n",
    "    ax.xaxis.set_major_formatter(mdates.DateFormatter('%d/%m/%Y, %-Hh'))\n",
    "    ax.xaxis.set_minor_locator(mdates.HourLocator())\n",
    "    fig.autofmt_xdate()\n",
    "    \n",
    "    plt.title(\"Temperatures of \" + locationName + \" for user \" + str(userId))\n",
    "    plt.legend()\n",
    "    plt.grid()\n",
    "    \n",
    "    clear_output() \n",
    "    \n",
    "    plt.show()"
   ]
  },
  {
   "cell_type": "code",
   "execution_count": null,
   "metadata": {
    "collapsed": true
   },
   "outputs": [],
   "source": [
    "## For performance gain set_temps and measured_temps in hive table"
   ]
  }
 ],
 "metadata": {
  "kernelspec": {
   "display_name": "Python 2",
   "language": "python",
   "name": "python2"
  },
  "language_info": {
   "codemirror_mode": {
    "name": "ipython",
    "version": 2
   },
   "file_extension": ".py",
   "mimetype": "text/x-python",
   "name": "python",
   "nbconvert_exporter": "python",
   "pygments_lexer": "ipython2",
   "version": "2.7.6"
  }
 },
 "nbformat": 4,
 "nbformat_minor": 0
}
