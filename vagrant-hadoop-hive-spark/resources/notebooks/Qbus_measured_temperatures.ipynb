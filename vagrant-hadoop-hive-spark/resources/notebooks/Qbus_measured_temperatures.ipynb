{
 "cells": [
  {
   "cell_type": "markdown",
   "metadata": {},
   "source": [
    "# All measured temperatures for 1 user at a specific location"
   ]
  },
  {
   "cell_type": "code",
   "execution_count": 1,
   "metadata": {
    "collapsed": false
   },
   "outputs": [],
   "source": [
    "%matplotlib inline\n",
    "\n",
    "import matplotlib.pyplot as plt\n",
    "import matplotlib.dates as mdates\n",
    "import numpy as np\n",
    "\n",
    "from ipywidgets import widgets\n",
    "from IPython.display import display\n",
    "from IPython.display import clear_output\n",
    "\n",
    "user_box = widgets.Text(\"userid\")\n",
    "display(user_box)\n",
    "location_box = widgets.Text(\"Location\")\n",
    "display(location_box)\n",
    "\n",
    "userId = 0\n",
    "locationName = \"\"\n",
    "\n",
    "def handle_user_submit(sender):\n",
    "    global userId\n",
    "    userId = user_box.value\n",
    "    clear_output()\n",
    "    print \"Getting distinct locations for user \" + str(userId)\n",
    "    show_distinct_locations_for_user(userId)\n",
    "    \n",
    "user_box.on_submit(handle_user_submit)\n",
    "\n",
    "def show_distinct_locations_for_user(userId):\n",
    "    distinct_locations_user = sqlContext.sql(\n",
    "        \"select distinct l.name \"\n",
    "        + \"from locations l \"\n",
    "        + \"join outputs o on l.id = o.locationId \"\n",
    "        + \"join types t on t.id = o.typeId \"\n",
    "        + \"where l.userId = '\" + str(userId) + \"' \"\n",
    "        + \"and t.name = 'THERMO'\"\n",
    "        + \"order by l.name\")\n",
    "    \n",
    "    clear_output()\n",
    "    \n",
    "    for element in distinct_locations_user.collect():\n",
    "        print element.name\n",
    "\n",
    "def handle_location_submit(sender):\n",
    "    global locationName\n",
    "    locationName = location_box.value\n",
    "    clear_output()\n",
    "    print \"Computing plot\"\n",
    "    compute_plot()\n",
    "    \n",
    "location_box.on_submit(handle_location_submit)\n",
    "\n",
    "def compute_plot():\n",
    "    measured_temps = sqlContext.sql(\n",
    "        \"select time, value \"\n",
    "        + \"from measuredTemps \"\n",
    "        + \"where Userid = '\" + str(userId) + \"' \"\n",
    "        + \"and locationname = '\" + locationName + \"' \"\n",
    "        + \"order by time\")\n",
    "    \n",
    "    fig, ax = plt.subplots(figsize=(20,10))\n",
    "    \n",
    "    plt.plot(measured_temps.select('time').collect(), \n",
    "             measured_temps.select('value').collect(),\n",
    "            label = \"measured\")\n",
    "    \n",
    "    ax.xaxis.set_major_formatter(mdates.DateFormatter('%d/%m/%Y, %-Hh'))\n",
    "    ax.xaxis.set_minor_locator(mdates.DayLocator())\n",
    "    fig.autofmt_xdate()\n",
    "    \n",
    "    # force y to 0\n",
    "    # ax.set_ylim(ymin=0)\n",
    "    \n",
    "    plt.title(\"Temperatures of \" + locationName + \" for user \" + str(userId))\n",
    "    plt.legend()\n",
    "    plt.grid()\n",
    "    \n",
    "    clear_output() \n",
    "    \n",
    "    plt.show()"
   ]
  },
  {
   "cell_type": "code",
   "execution_count": null,
   "metadata": {
    "collapsed": true
   },
   "outputs": [],
   "source": []
  }
 ],
 "metadata": {
  "kernelspec": {
   "display_name": "Python 2",
   "language": "python",
   "name": "python2"
  },
  "language_info": {
   "codemirror_mode": {
    "name": "ipython",
    "version": 2
   },
   "file_extension": ".py",
   "mimetype": "text/x-python",
   "name": "python",
   "nbconvert_exporter": "python",
   "pygments_lexer": "ipython2",
   "version": "2.7.6"
  }
 },
 "nbformat": 4,
 "nbformat_minor": 0
}
